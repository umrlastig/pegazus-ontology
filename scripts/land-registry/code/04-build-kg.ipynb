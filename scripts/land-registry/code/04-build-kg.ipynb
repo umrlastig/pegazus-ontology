{
 "cells": [
  {
   "cell_type": "code",
   "execution_count": 17,
   "metadata": {},
   "outputs": [],
   "source": [
    "import requests\n",
    "from graphdbfunctions import *"
   ]
  },
  {
   "cell_type": "code",
   "execution_count": 18,
   "metadata": {},
   "outputs": [],
   "source": [
    "ROOT = \"E:/codes/pegazus-ontology\"\n",
    "markdown_file = \"/scripts/land-registry/4_BUILD_KG.md\"\n",
    "\n",
    "GRAPHDB_HOST = \"http://localhost:7200\"\n",
    "GRAPHDB_REPO = 'cadastre_test' # Your repository ID/Name\n",
    "\n",
    "#Set proxies to None to evoid conflict with companies proxies\n",
    "proxies = {\n",
    "  \"http\": None,\n",
    "  \"https\": None,\n",
    "}"
   ]
  },
  {
   "cell_type": "code",
   "execution_count": 19,
   "metadata": {},
   "outputs": [],
   "source": [
    "#Open the markdown file,read the content en get only the text between ```sparq and ``` \n",
    "with open(ROOT + \"/\" + markdown_file, \"r\") as file:\n",
    "    requests_ = file.read()\n",
    "\n",
    "#There are several requets in this file that are writtent betwwen ```sparql and ```\n",
    "#Creata a list of all the requests\n",
    "requests_ = requests_.split(\"```sparql\")[1:]\n",
    "requests_ = [request.split(\"```\")[0] for request in requests_]"
   ]
  },
  {
   "cell_type": "code",
   "execution_count": 20,
   "metadata": {},
   "outputs": [
    {
     "data": {
      "text/plain": [
       "52"
      ]
     },
     "execution_count": 20,
     "metadata": {},
     "output_type": "execute_result"
    }
   ],
   "source": [
    "len(requests_) #Should be 51"
   ]
  },
  {
   "cell_type": "code",
   "execution_count": 21,
   "metadata": {},
   "outputs": [
    {
     "name": "stdout",
     "output_type": "stream",
     "text": [
      "Processing request 1\n",
      "<Response [204]> \n",
      "Processing request 2\n",
      "<Response [204]> \n",
      "Processing request 3\n",
      "<Response [204]> \n",
      "Processing request 4\n",
      "<Response [204]> \n",
      "Processing request 5\n",
      "<Response [204]> \n",
      "Processing request 6\n",
      "<Response [204]> \n",
      "Processing request 7\n",
      "<Response [204]> \n",
      "Processing request 8\n",
      "<Response [204]> \n",
      "Processing request 9\n",
      "<Response [204]> \n",
      "Processing request 10\n",
      "<Response [204]> \n",
      "Processing request 11\n",
      "<Response [204]> \n",
      "Processing request 12\n",
      "<Response [204]> \n",
      "Processing request 13\n",
      "<Response [204]> \n",
      "Processing request 14\n",
      "<Response [204]> \n",
      "Processing request 15\n",
      "<Response [204]> \n",
      "Processing request 16\n",
      "<Response [204]> \n",
      "Processing request 17\n",
      "<Response [204]> \n",
      "Processing request 18\n",
      "<Response [204]> \n",
      "Processing request 19\n",
      "<Response [204]> \n",
      "Processing request 20\n",
      "<Response [204]> \n",
      "Processing request 21\n",
      "<Response [204]> \n",
      "Processing request 22\n",
      "<Response [204]> \n",
      "Processing request 23\n",
      "<Response [204]> \n",
      "Processing request 24\n",
      "<Response [204]> \n",
      "Processing request 25\n",
      "<Response [204]> \n",
      "Processing request 26\n",
      "<Response [204]> \n",
      "Processing request 27\n",
      "<Response [204]> \n",
      "Processing request 28\n",
      "<Response [204]> \n",
      "Processing request 29\n",
      "<Response [204]> \n",
      "Processing request 30\n",
      "<Response [204]> \n",
      "Processing request 31\n",
      "<Response [204]> \n",
      "Processing request 32\n",
      "<Response [204]> \n",
      "Processing request 33\n",
      "<Response [204]> \n",
      "Processing request 34\n",
      "<Response [204]> \n",
      "Processing request 35\n",
      "<Response [204]> \n",
      "Processing request 36\n",
      "<Response [204]> \n",
      "Processing request 37\n",
      "<Response [204]> \n",
      "Processing request 38\n",
      "<Response [204]> \n",
      "Processing request 39\n",
      "<Response [204]> \n",
      "Processing request 40\n",
      "<Response [204]> \n",
      "Processing request 41\n",
      "<Response [204]> \n",
      "Processing request 42\n",
      "<Response [204]> \n",
      "Processing request 43\n",
      "<Response [204]> \n",
      "Processing request 44\n",
      "<Response [204]> \n",
      "Processing request 45\n",
      "<Response [204]> \n",
      "Processing request 46\n",
      "<Response [204]> \n",
      "Processing request 47\n",
      "<Response [204]> \n",
      "Processing request 48\n",
      "<Response [204]> \n",
      "Processing request 49\n",
      "<Response [204]> \n",
      "Processing request 50\n",
      "<Response [204]> \n",
      "Processing request 51\n",
      "<Response [204]> \n",
      "Processing request 52\n",
      "<Response [400]> MALFORMED QUERY: variable 'attrAGG' in projection not present in GROUP BY.\n"
     ]
    }
   ],
   "source": [
    "counter = 1\n",
    "for r in requests_:\n",
    "    print(f\"Processing request {counter}\")\n",
    "    update_sparql_query(GRAPHDB_HOST,GRAPHDB_REPO,r,proxies)\n",
    "    counter += 1"
   ]
  }
 ],
 "metadata": {
  "kernelspec": {
   "display_name": "pegazus_kg",
   "language": "python",
   "name": "python3"
  },
  "language_info": {
   "codemirror_mode": {
    "name": "ipython",
    "version": 3
   },
   "file_extension": ".py",
   "mimetype": "text/x-python",
   "name": "python",
   "nbconvert_exporter": "python",
   "pygments_lexer": "ipython3",
   "version": "3.10.8"
  }
 },
 "nbformat": 4,
 "nbformat_minor": 2
}
