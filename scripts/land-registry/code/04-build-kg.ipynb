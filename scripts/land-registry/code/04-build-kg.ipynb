{
 "cells": [
  {
   "cell_type": "code",
   "execution_count": 17,
   "metadata": {},
   "outputs": [],
   "source": [
    "import requests\n",
    "from graphdbfunctions import *"
   ]
  },
  {
   "cell_type": "code",
   "execution_count": 18,
   "metadata": {},
   "outputs": [],
   "source": [
    "ROOT = \"E:/codes/pegazus-ontology\"\n",
    "markdown_file = \"/scripts/land-registry/4_BUILD_KG.md\"\n",
    "\n",
    "GRAPHDB_HOST = \"http://localhost:7200\"\n",
    "GRAPHDB_REPO = 'cadastre_test' # Your repository ID/Name\n",
    "\n",
    "#Set proxies to None to evoid conflict with companies proxies\n",
    "proxies = {\n",
    "  \"http\": None,\n",
    "  \"https\": None,\n",
    "}"
   ]
  },
  {
   "cell_type": "code",
   "execution_count": 19,
   "metadata": {},
   "outputs": [],
   "source": [
    "#Open the markdown file,read the content en get only the text between ```sparq and ``` \n",
    "with open(ROOT + \"/\" + markdown_file, \"r\") as file:\n",
    "    requests_ = file.read()\n",
    "\n",
    "#There are several requets in this file that are writtent betwwen ```sparql and ```\n",
    "#Creata a list of all the requests\n",
    "requests_ = requests_.split(\"```sparql\")[1:]\n",
    "requests_ = [request.split(\"```\")[0] for request in requests_]"
   ]
  },
  {
   "cell_type": "code",
   "execution_count": null,
   "metadata": {},
   "outputs": [],
   "source": [
    "len(requests_) #Should have 51 requests"
   ]
  },
  {
   "cell_type": "code",
   "execution_count": null,
   "metadata": {},
   "outputs": [],
   "source": [
    "counter = 1\n",
    "for r in requests_:\n",
    "    print(f\"Processing request {counter}\")\n",
    "    update_sparql_query(GRAPHDB_HOST,GRAPHDB_REPO,r,proxies)\n",
    "    counter += 1"
   ]
  }
 ],
 "metadata": {
  "kernelspec": {
   "display_name": "pegazus_kg",
   "language": "python",
   "name": "python3"
  },
  "language_info": {
   "codemirror_mode": {
    "name": "ipython",
    "version": 3
   },
   "file_extension": ".py",
   "mimetype": "text/x-python",
   "name": "python",
   "nbconvert_exporter": "python",
   "pygments_lexer": "ipython3",
   "version": "3.10.8"
  }
 },
 "nbformat": 4,
 "nbformat_minor": 2
}
