{
 "cells": [
  {
   "cell_type": "code",
   "execution_count": 33,
   "metadata": {},
   "outputs": [],
   "source": [
    "import requests\n",
    "from graphdbfunctions import *"
   ]
  },
  {
   "cell_type": "markdown",
   "metadata": {},
   "source": [
    "### Variables"
   ]
  },
  {
   "cell_type": "code",
   "execution_count": 34,
   "metadata": {},
   "outputs": [],
   "source": [
    "ROOT = \"E:/codes/pegazus-ontology\"\n",
    "markdown_file = \"/scripts/land-registry/3_UPDATE_INITIAL_DATAS.md\"\n",
    "\n",
    "GRAPHDB_HOST = \"http://localhost:7200\"\n",
    "GRAPHDB_REPO = 'cadastre_test' # Your repository ID/Name\n",
    "\n",
    "#Set proxies to None to evoid conflict with companies proxies\n",
    "proxies = {\n",
    "  \"http\": None,\n",
    "  \"https\": None,\n",
    "}"
   ]
  },
  {
   "cell_type": "markdown",
   "metadata": {},
   "source": [
    "### Retrieve the list of requests"
   ]
  },
  {
   "cell_type": "code",
   "execution_count": 35,
   "metadata": {},
   "outputs": [],
   "source": [
    "#Open the markdown file,read the content en get only the text between ```sparq and ``` \n",
    "with open(ROOT + \"/\" + markdown_file, \"r\") as file:\n",
    "    requests_ = file.read()\n",
    "\n",
    "#There are several requets in this file that are writtent betwwen ```sparql and ```\n",
    "#Creata a list of all the requests\n",
    "requests_ = requests_.split(\"```sparql\")[1:]\n",
    "requests_ = [request.split(\"```\")[0] for request in requests_]"
   ]
  },
  {
   "cell_type": "code",
   "execution_count": null,
   "metadata": {},
   "outputs": [],
   "source": [
    "len(requests_) #Should be 16"
   ]
  },
  {
   "cell_type": "markdown",
   "metadata": {},
   "source": [
    "### Execute the requests"
   ]
  },
  {
   "cell_type": "code",
   "execution_count": null,
   "metadata": {},
   "outputs": [],
   "source": [
    "for r in requests_:\n",
    "    update_sparql_query(GRAPHDB_HOST,GRAPHDB_REPO,r,proxies)"
   ]
  }
 ],
 "metadata": {
  "kernelspec": {
   "display_name": "pegazus_kg",
   "language": "python",
   "name": "python3"
  },
  "language_info": {
   "codemirror_mode": {
    "name": "ipython",
    "version": 3
   },
   "file_extension": ".py",
   "mimetype": "text/x-python",
   "name": "python",
   "nbconvert_exporter": "python",
   "pygments_lexer": "ipython3",
   "version": "3.10.8"
  }
 },
 "nbformat": 4,
 "nbformat_minor": 2
}
