{
 "cells": [
  {
   "cell_type": "code",
   "execution_count": 2,
   "metadata": {},
   "outputs": [],
   "source": [
    "import requests\n",
    "import json\n",
    "import os\n",
    "from rdflib import Graph, Namespace, Literal, BNode, URIRef\n",
    "from rdflib.namespace import RDF\n",
    "import glob\n",
    "import urllib.parse as up\n",
    "from graphdbfunctions import *"
   ]
  },
  {
   "cell_type": "markdown",
   "metadata": {},
   "source": [
    "### Variables and paths"
   ]
  },
  {
   "cell_type": "code",
   "execution_count": 3,
   "metadata": {},
   "outputs": [],
   "source": [
    "ROOT = \"E:/codes/pegazus-ontology\" #Root folder of the project\n",
    "GRAPHDB_HOST = \"http://localhost:7200\"\n",
    "GRAPHDB_REPO = 'cadastre_test' # Your repository ID/Name\n",
    "\n",
    "#Set proxies to None to evoid conflict with companies proxies\n",
    "proxies = {\n",
    "  \"http\": None,\n",
    "  \"https\": None,\n",
    "}"
   ]
  },
  {
   "cell_type": "code",
   "execution_count": 4,
   "metadata": {},
   "outputs": [],
   "source": [
    "ONTOLOGY_PATH = ROOT + \"/ontology/\"\n",
    "ONTOLOGY_MODULES = [\n",
    "    ['ontology-addresses.ttl','http://rdf.geohistoricaldata.org/ontology'],\n",
    "    ['ontology-land-registry.ttl','http://rdf.geohistoricaldata.org/ontology']\n",
    "    ]"
   ]
  },
  {
   "cell_type": "code",
   "execution_count": 5,
   "metadata": {},
   "outputs": [],
   "source": [
    "RDF_PATH = ROOT + '/data/land-registry/'\n",
    "RDF_TO_NAMED_GRAPHS = [\n",
    "    [\"activities.ttl\",\"http://rdf.geohistoricaldata.org/ontology\"],\n",
    "    [\"Gentilly_landmarks_initial_plots.ttl\",\"http://rdf.geohistoricaldata.org/rootlandmarks\"],\n",
    "    [\"Gentilly_landmarks_plot_mentions.ttl\",\"http://rdf.geohistoricaldata.org/landmarksversions\"],\n",
    "    [\"Gentilly_owners_cf_clas_mut.ttl\",\"http://rdf.geohistoricaldata.org/landmarksversions\"],\n",
    "    [\"Gentilly_sources_folios.ttl\",\"http://rdf.geohistoricaldata.org/landmarksversions\"],\n",
    "    [\"Gentilly_sources_pages.ttl\",\"http://rdf.geohistoricaldata.org/landmarksversions\"],\n",
    "    [\"Gentilly_landmarks_lieu_dit.ttl\",\"http://rdf.geohistoricaldata.org/otherlandmarks\"],\n",
    "    [\"landmarks.ttl\",\"http://rdf.geohistoricaldata.org/otherlandmarks\"],\n",
    "    [\"sources.ttl\",\"http://rdf.geohistoricaldata.org/sources\"],\n",
    "]"
   ]
  },
  {
   "cell_type": "markdown",
   "metadata": {},
   "source": [
    "### Test the connexion using Graph DB API"
   ]
  },
  {
   "cell_type": "code",
   "execution_count": 6,
   "metadata": {},
   "outputs": [
    {
     "name": "stdout",
     "output_type": "stream",
     "text": [
      "http://localhost:7200/rest/repositories\n"
     ]
    },
    {
     "data": {
      "text/plain": [
       "<Response [200]>"
      ]
     },
     "execution_count": 6,
     "metadata": {},
     "output_type": "execute_result"
    }
   ],
   "source": [
    "get_repositories(GRAPHDB_HOST, proxies)"
   ]
  },
  {
   "cell_type": "code",
   "execution_count": 7,
   "metadata": {},
   "outputs": [
    {
     "data": {
      "text/plain": [
       "<Response [200]>"
      ]
     },
     "execution_count": 7,
     "metadata": {},
     "output_type": "execute_result"
    }
   ],
   "source": [
    "default = set_default_repository(GRAPHDB_HOST, GRAPHDB_REPO, proxies)\n",
    "default"
   ]
  },
  {
   "cell_type": "markdown",
   "metadata": {},
   "source": [
    "### Load the data"
   ]
  },
  {
   "cell_type": "code",
   "execution_count": 9,
   "metadata": {},
   "outputs": [
    {
     "name": "stdout",
     "output_type": "stream",
     "text": [
      "\n",
      "\n"
     ]
    }
   ],
   "source": [
    "#Load ontology files\n",
    "load_ttl_files_into_named_graph(GRAPHDB_HOST, GRAPHDB_REPO, ONTOLOGY_PATH, ONTOLOGY_MODULES, proxies)"
   ]
  },
  {
   "cell_type": "code",
   "execution_count": 11,
   "metadata": {},
   "outputs": [
    {
     "name": "stdout",
     "output_type": "stream",
     "text": [
      "\n",
      "\n",
      "\n",
      "\n",
      "\n",
      "\n",
      "\n",
      "\n",
      "\n"
     ]
    }
   ],
   "source": [
    "#Load all the data into named graphs\n",
    "load_ttl_files_into_named_graph(GRAPHDB_HOST,GRAPHDB_REPO,RDF_PATH,RDF_TO_NAMED_GRAPHS,proxies)"
   ]
  }
 ],
 "metadata": {
  "kernelspec": {
   "display_name": "peuplement_ontology",
   "language": "python",
   "name": "python3"
  },
  "language_info": {
   "codemirror_mode": {
    "name": "ipython",
    "version": 3
   },
   "file_extension": ".py",
   "mimetype": "text/x-python",
   "name": "python",
   "nbconvert_exporter": "python",
   "pygments_lexer": "ipython3",
   "version": "3.10.8"
  }
 },
 "nbformat": 4,
 "nbformat_minor": 2
}
