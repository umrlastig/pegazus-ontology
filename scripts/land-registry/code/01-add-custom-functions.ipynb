{
 "cells": [
  {
   "cell_type": "code",
   "execution_count": 1,
   "metadata": {},
   "outputs": [],
   "source": [
    "import requests\n",
    "import glob\n",
    "from graphdbfunctions import *"
   ]
  },
  {
   "cell_type": "markdown",
   "metadata": {},
   "source": [
    "### Variables and paths"
   ]
  },
  {
   "cell_type": "code",
   "execution_count": 2,
   "metadata": {},
   "outputs": [],
   "source": [
    "ROOT = \"E:/codes/pegazus-ontology\" #Root folder of the project\n",
    "GRAPHDB_HOST = \"http://localhost:7200\"\n",
    "GRAPHDB_REPO = 'cadastre_test' # Your repository ID/Name\n",
    "\n",
    "#Set proxies to None to evoid conflict with companies proxies\n",
    "proxies = {\n",
    "  \"http\": None,\n",
    "  \"https\": None,\n",
    "}"
   ]
  },
  {
   "cell_type": "markdown",
   "metadata": {},
   "source": [
    "### Get requests files"
   ]
  },
  {
   "cell_type": "code",
   "execution_count": null,
   "metadata": {},
   "outputs": [],
   "source": [
    "requests_files = glob.glob(ROOT + \"/**/functions/*.rq\", recursive=True)\n",
    "requests_files"
   ]
  },
  {
   "cell_type": "code",
   "execution_count": null,
   "metadata": {},
   "outputs": [],
   "source": [
    "for r in requests_files:\n",
    "    print(r)\n",
    "    with open(r, 'r', encoding=\"utf8\") as file:\n",
    "        QUERY = file.read()\n",
    "        update_sparql_query(GRAPHDB_HOST,GRAPHDB_REPO,QUERY,proxies)"
   ]
  }
 ],
 "metadata": {
  "kernelspec": {
   "display_name": "pegazus_kg",
   "language": "python",
   "name": "python3"
  },
  "language_info": {
   "codemirror_mode": {
    "name": "ipython",
    "version": 3
   },
   "file_extension": ".py",
   "mimetype": "text/x-python",
   "name": "python",
   "nbconvert_exporter": "python",
   "pygments_lexer": "ipython3",
   "version": "3.10.8"
  }
 },
 "nbformat": 4,
 "nbformat_minor": 2
}
